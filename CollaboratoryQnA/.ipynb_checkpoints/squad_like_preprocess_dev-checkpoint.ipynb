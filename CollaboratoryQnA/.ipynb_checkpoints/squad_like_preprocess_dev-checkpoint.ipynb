{
 "cells": [
  {
   "cell_type": "code",
   "execution_count": 1,
   "metadata": {},
   "outputs": [],
   "source": [
    "raw_data_dir = 'C:\\CPSC532P\\CollaboratoryQnA\\\\raw_data'\n",
    "processed_data_dir = 'C:\\CPSC532P\\CollaboratoryQnA\\\\processed_data'"
   ]
  },
  {
   "cell_type": "code",
   "execution_count": 2,
   "metadata": {},
   "outputs": [],
   "source": [
    "def tweet_word_pos(tweet):\n",
    "    pos = np.arange(len(tweet.split()))\n",
    "    return pos"
   ]
  },
  {
   "cell_type": "code",
   "execution_count": 13,
   "metadata": {},
   "outputs": [],
   "source": [
    "def write_to_file(out_file, line):\n",
    "    out_file.write((line + '\\n'))"
   ]
  },
  {
   "cell_type": "code",
   "execution_count": 4,
   "metadata": {},
   "outputs": [],
   "source": [
    "import json\n",
    "import matplotlib.pyplot as plt\n",
    "import numpy as np\n",
    "import pandas as pd\n",
    "from wordcloud import WordCloud, STOPWORDS, ImageColorGenerator\n",
    "from nltk.corpus import stopwords\n",
    "from collections import defaultdict\n",
    "set(stopwords.words('english'))\n",
    "\n",
    "import preprocess\n",
    "\n",
    "data_dir = raw_data_dir\n",
    "with open(data_dir + \"\\\\train.json\", 'r') as f:\n",
    "    train_data = json.load(f)\n",
    "with open(data_dir + \"\\\\dev.json\", 'r') as f:\n",
    "    dev_data = json.load(f)    \n",
    "with open(data_dir + \"\\\\test.json\", 'r') as f:\n",
    "    test_data = json.load(f)        \n",
    "    \n",
    "    \n",
    "class data_set:\n",
    "    def __init__ (self, data, test = False):\n",
    "        self.test = test\n",
    "        self.Questions = [item['Question'] for item in data]      \n",
    "        self.Tweets = [item['Tweet'] for item in data]\n",
    "        if (not test):\n",
    "            self.Answers = [item['Answer'] for item in data]\n",
    "        \n",
    "\n",
    "        \n",
    "    def get_span_dict(self):\n",
    "    \n",
    "        self.span = defaultdict(dict)\n",
    "        for  i,tweet in enumerate(self.clean_tweets):\n",
    "\n",
    "            pos= tweet_word_pos(tweet)\n",
    "            answer_first_word = self.clean_answers[i][0].split()[0] \n",
    "            answer_last_word = self.clean_answers[i][0].split()[-1] \n",
    "            match_pos = pos[np.array(tweet.split())== answer_first_word]\n",
    "\n",
    "            if match_pos.size != 0:\n",
    "                for match in match_pos:\n",
    "                    if ((match+(len(self.clean_answers[i][0].split())-1) < len(tweet.split()) ) and tweet.split()[match+(len(self.clean_answers[i][0].split())-1)] == answer_last_word):\n",
    "                        self.span[self.clean_answers[i][0]]['start'] = match\n",
    "                        self.span[self.clean_answers[i][0]]['end'] = match+(len(self.clean_answers[i][0].split())-1)\n",
    "                        self.span[self.clean_answers[i][0]]['type'] = 'extractive'\n",
    "                        break\n",
    "                    else:\n",
    "                        self.span[self.clean_answers[i][0]]['start'] = match\n",
    "                        self.span[self.clean_answers[i][0]]['end'] = 0\n",
    "                        self.span[self.clean_answers[i][0]]['type'] = 'partially abstractive'\n",
    "            else:\n",
    "                self.span[self.clean_answers[i][0]]['start'] = 0\n",
    "                self.span[self.clean_answers[i][0]]['end'] = 0\n",
    "                self.span[self.clean_answers[i][0]]['type'] = 'completely abstractive' \n",
    "\n",
    "            \n",
    "       \n",
    "\n",
    "    def clean_data(self, filename):\n",
    "        self.clean_questions = [preprocess.preprocess(q) for q in self.Questions]\n",
    "        self.clean_tweets = [preprocess.preprocess(t) for t in self.Tweets]\n",
    "        # no need to clean the answers\n",
    "        if not self.test: \n",
    "            self.clean_answers = self.Answers\n",
    "            self.cleaned_data_set = list(zip(self.clean_tweets, self.clean_questions, self.clean_answers ))\n",
    "        else:\n",
    "            self.cleaned_data_set = list(zip(self.clean_tweets, self.clean_questions))\n",
    "        pd.DataFrame(self.cleaned_data_set).to_csv(data_dir + '\\\\clean_data\\\\' + filename + '.txt', index=False, header= None, sep  = '\\t' )\n",
    "\n",
    "                                                                       \n",
    "            "
   ]
  },
  {
   "cell_type": "code",
   "execution_count": 17,
   "metadata": {},
   "outputs": [],
   "source": [
    "train_set = data_set(train_data)\n",
    "dev_set = data_set(dev_data)\n",
    "test_set = data_set(test_data,True)\n",
    "train_set.clean_data('train')\n",
    "dev_set.clean_data('dev')\n",
    "test_set.clean_data('test')\n",
    "train_set.get_span_dict()\n",
    "dev_set.get_span_dict()"
   ]
  },
  {
   "cell_type": "code",
   "execution_count": 20,
   "metadata": {},
   "outputs": [],
   "source": [
    "###################CHECK THIS FUNCTION IF IT WORKS   \n",
    "import os\n",
    "def write_like_squad(data_set,tier,out_dir):\n",
    "    examples = []\n",
    "    for tweet,q,a in data_set.cleaned_data_set:\n",
    "#         print(tweet)\n",
    "        examples.append((' '.join(tweet.split()), ' '.join(q.split()), ' '.join(a), ' '.join([str(data_set.span[a[0]]['start']), str(data_set.span[a[0]]['end'])])))\n",
    "        indices = range(len(examples))\n",
    "        \n",
    "    with open(os.path.join(out_dir, tier +'.tweet'), 'w') as tweet_file,  \\\n",
    "         open(os.path.join(out_dir, tier +'.question'), 'w') as question_file,\\\n",
    "         open(os.path.join(out_dir, tier +'.answer'), 'w') as ans_text_file, \\\n",
    "         open(os.path.join(out_dir, tier +'.span'), 'w') as span_file:\n",
    "        \n",
    "        for i in indices:\n",
    "            (tweet, question, answer, answer_span) = examples[i]\n",
    "#             print(tweet, question, answer, answer_span)\n",
    "            # write tokenized data to file\n",
    "            write_to_file(tweet_file, tweet)\n",
    "            write_to_file(question_file, question)\n",
    "            write_to_file(ans_text_file, answer)\n",
    "            write_to_file(span_file, answer_span)  "
   ]
  },
  {
   "cell_type": "code",
   "execution_count": 21,
   "metadata": {},
   "outputs": [],
   "source": [
    "write_like_squad(train_set,'train',r'C:\\CPSC532P\\CollaboratoryQnA\\raw_data\\clean_data\\squad_like_tweets')\n",
    "write_like_squad(dev_set,'dev',r'C:\\CPSC532P\\CollaboratoryQnA\\raw_data\\clean_data\\squad_like_tweets')\n"
   ]
  },
  {
   "cell_type": "code",
   "execution_count": 22,
   "metadata": {},
   "outputs": [
    {
     "data": {
      "text/plain": [
       "(array([4039.,    0.,    0.,    0.,    0., 3297.,    0.,    0.,    0.,\n",
       "        1622.]),\n",
       " array([0. , 0.2, 0.4, 0.6, 0.8, 1. , 1.2, 1.4, 1.6, 1.8, 2. ]),\n",
       " <a list of 10 Patch objects>)"
      ]
     },
     "execution_count": 22,
     "metadata": {},
     "output_type": "execute_result"
    },
    {
     "data": {
      "image/png": "[encoded data removed]",
      "text/plain": [
       "<Figure size 432x288 with 1 Axes>"
      ]
     },
     "metadata": {
      "needs_background": "light"
     },
     "output_type": "display_data"
    }
   ],
   "source": [
    "types = []\n",
    "for item in train_set.span.items():\n",
    "    types.append(item[1]['type'])\n",
    "plt.hist(types)    "
   ]
  },
  {
   "cell_type": "code",
   "execution_count": 23,
   "metadata": {},
   "outputs": [
    {
     "data": {
      "text/plain": [
       "(array([534.,   0.,   0.,   0.,   0., 139.,   0.,   0.,   0., 354.]),\n",
       " array([0. , 0.2, 0.4, 0.6, 0.8, 1. , 1.2, 1.4, 1.6, 1.8, 2. ]),\n",
       " <a list of 10 Patch objects>)"
      ]
     },
     "execution_count": 23,
     "metadata": {},
     "output_type": "execute_result"
    },
    {
     "data": {
      "image/png": "[encoded data removed]",
      "text/plain": [
       "<Figure size 432x288 with 1 Axes>"
      ]
     },
     "metadata": {
      "needs_background": "light"
     },
     "output_type": "display_data"
    }
   ],
   "source": [
    "types = []\n",
    "for item in dev_set.span.items():\n",
    "    types.append(item[1]['type'])\n",
    "plt.hist(types) "
   ]
  },
  {
   "cell_type": "code",
   "execution_count": null,
   "metadata": {},
   "outputs": [],
   "source": []
  },
  {
   "cell_type": "code",
   "execution_count": null,
   "metadata": {},
   "outputs": [],
   "source": []
  },
  {
   "cell_type": "code",
   "execution_count": null,
   "metadata": {},
   "outputs": [],
   "source": []
  },
  {
   "cell_type": "code",
   "execution_count": null,
   "metadata": {},
   "outputs": [],
   "source": []
  },
  {
   "cell_type": "code",
   "execution_count": null,
   "metadata": {},
   "outputs": [],
   "source": []
  },
  {
   "cell_type": "code",
   "execution_count": null,
   "metadata": {},
   "outputs": [],
   "source": []
  }
 ],
 "metadata": {
  "kernelspec": {
   "display_name": "Python 3",
   "language": "python",
   "name": "python3"
  },
  "language_info": {
   "codemirror_mode": {
    "name": "ipython",
    "version": 3
   },
   "file_extension": ".py",
   "mimetype": "text/x-python",
   "name": "python",
   "nbconvert_exporter": "python",
   "pygments_lexer": "ipython3",
   "version": "3.7.4"
  }
 },
 "nbformat": 4,
 "nbformat_minor": 2
}
