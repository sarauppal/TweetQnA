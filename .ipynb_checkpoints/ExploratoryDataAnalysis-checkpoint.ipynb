{
 "cells": [
  {
   "cell_type": "code",
   "execution_count": 2,
   "metadata": {},
   "outputs": [],
   "source": [
    "import json\n",
    "json_data = '{\"a\": 1, \"b\": 2, \"c\": 3, \"d\": 4, \"e\": 5}'"
   ]
  },
  {
   "cell_type": "code",
   "execution_count": 15,
   "metadata": {},
   "outputs": [
    {
     "name": "stdout",
     "output_type": "stream",
     "text": [
      "{\n",
      "    \"a\": 1,\n",
      "    \"b\": 2,\n",
      "    \"c\": 3,\n",
      "    \"d\": 4,\n",
      "    \"e\": 5\n",
      "}\n"
     ]
    }
   ],
   "source": [
    "parsed_json = json.loads(json_data)\n",
    "print(json.dumps(parsed_json, indent = 4, sort_keys = True))"
   ]
  },
  {
   "cell_type": "code",
   "execution_count": 23,
   "metadata": {},
   "outputs": [
    {
     "data": {
      "text/plain": [
       "5"
      ]
     },
     "execution_count": 23,
     "metadata": {},
     "output_type": "execute_result"
    }
   ],
   "source": [
    "parsed_json[\"e\"]"
   ]
  },
  {
   "cell_type": "code",
   "execution_count": 49,
   "metadata": {},
   "outputs": [],
   "source": [
    "class JsonLoader(object):\n",
    "    def __init__(self,data):\n",
    "        self.__dict__ = json.loads(data)\n",
    "        "
   ]
  },
  {
   "cell_type": "code",
   "execution_count": 50,
   "metadata": {},
   "outputs": [],
   "source": [
    "with open(\"distros.json\") as f:\n",
    "    my_dict = json.load(f)"
   ]
  },
  {
   "cell_type": "code",
   "execution_count": 53,
   "metadata": {},
   "outputs": [
    {
     "ename": "TypeError",
     "evalue": "list indices must be integers or slices, not str",
     "output_type": "error",
     "traceback": [
      "\u001b[1;31m---------------------------------------------------------------------------\u001b[0m",
      "\u001b[1;31mTypeError\u001b[0m                                 Traceback (most recent call last)",
      "\u001b[1;32m<ipython-input-53-0269a92709c2>\u001b[0m in \u001b[0;36m<module>\u001b[1;34m\u001b[0m\n\u001b[1;32m----> 1\u001b[1;33m \u001b[0mmy_dict\u001b[0m\u001b[1;33m[\u001b[0m\u001b[1;34m'Name'\u001b[0m\u001b[1;33m]\u001b[0m\u001b[1;33m\u001b[0m\u001b[1;33m\u001b[0m\u001b[0m\n\u001b[0m",
      "\u001b[1;31mTypeError\u001b[0m: list indices must be integers or slices, not str"
     ]
    }
   ],
   "source": [
    "my_dict['Name']"
   ]
  },
  {
   "cell_type": "code",
   "execution_count": 54,
   "metadata": {},
   "outputs": [
    {
     "name": "stdout",
     "output_type": "stream",
     "text": [
      "Debian\n",
      "Ubuntu\n",
      "Fedora\n",
      "CentOS\n",
      "OpenSUSE\n",
      "Arch Linux\n",
      "Gentoo\n"
     ]
    }
   ],
   "source": [
    "with open('distros.json', 'r') as f: \n",
    "    distros_dict = json.load(f) \n",
    "    for distro in distros_dict: \n",
    "        print(distro['Name'])\n"
   ]
  },
  {
   "cell_type": "code",
   "execution_count": 55,
   "metadata": {},
   "outputs": [],
   "source": [
    "dist =  { \"Name\": \"Debian\", \"Version\": \"9\", \"Install\": \"apt\", \"Owner\": \"SPI\", \"Kernel\": \"4.9\" }, { \"Name\": \"Ubuntu\", \"Version\": \"17.10\", \"Install\": \"apt\", \"Owner\": \"Canonical\", \"Kernel\": \"4.13\" }, { \"Name\": \"Fedora\", \"Version\": \"26\", \"Install\": \"dnf\", \"Owner\": \"Red Hat\", \"Kernel\": \"4.13\" }, { \"Name\": \"CentOS\", \"Version\": \"7\", \"Install\": \"yum\", \"Owner\": \"Red Hat\", \"Kernel\": \"3.10\" }, { \"Name\": \"OpenSUSE\", \"Version\": \"42.3\", \"Install\": \"zypper\", \"Owner\": \"Novell\", \"Kernel\": \"4.4\" }, { \"Name\": \"Arch Linux\", \"Version\": \"Rolling Release\", \"Install\": \"pacman\", \"Owner\": \"SPI\", \"Kernel\": \"4.13\" }, { \"Name\": \"Gentoo\", \"Version\": \"Rolling Release\", \"Install\": \"emerge\", \"Owner\": \"Gentoo Foundation\", \"Kernel\": \"4.12\" } \n"
   ]
  },
  {
   "cell_type": "code",
   "execution_count": null,
   "metadata": {},
   "outputs": [],
   "source": []
  }
 ],
 "metadata": {
  "kernelspec": {
   "display_name": "Python 3",
   "language": "python",
   "name": "python3"
  },
  "language_info": {
   "codemirror_mode": {
    "name": "ipython",
    "version": 3
   },
   "file_extension": ".py",
   "mimetype": "text/x-python",
   "name": "python",
   "nbconvert_exporter": "python",
   "pygments_lexer": "ipython3",
   "version": "3.7.4"
  }
 },
 "nbformat": 4,
 "nbformat_minor": 2
}
